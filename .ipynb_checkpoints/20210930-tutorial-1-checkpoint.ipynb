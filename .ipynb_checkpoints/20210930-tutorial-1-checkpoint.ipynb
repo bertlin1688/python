{
 "cells": [
  {
   "cell_type": "code",
<<<<<<< HEAD
   "execution_count": 38,
   "id": "ab863da9",
   "metadata": {},
   "outputs": [],
=======
   "execution_count": 12,
   "id": "ab863da9",
   "metadata": {},
   "outputs": [
    {
     "name": "stdout",
     "output_type": "stream",
     "text": [
      "<!DOCTYPE html>\n",
      "<html>\n",
      "\t<head>\n",
      "\t\t<meta charset=\"utf-8\">\n",
      "\t\t\n",
      "\n",
      "<meta name=\"viewport\" content=\"width=device-width, initial-scale=1\">\n",
      "\n",
      "<title>[新聞] 「007生死交戰」英國首映 凱特王妃現身吸 - 看板 movie - 批踢踢實業坊</title>\n",
      "<meta name=\"robots\" content=\"all\">\n",
      "<meta name=\"keywords\" content=\"Ptt BBS 批踢踢\">\n",
      "<meta name=\"description\" content=\"「007生死交戰」英國首映 凱特王妃現身吸引龐德目光\n",
      "2021-09-29 12:27聯合報\n",
      "記者黃保慧／即時報導\n",
      "丹尼爾克雷格主演的最後一部龐德片「007生死交戰」將在本周上映，該片在台灣時間29\n",
      "日凌晨0:30於英國倫敦皇家亞伯特音樂廳舉辦全球首映會，現場星光熠熠，除了主演丹尼\n",
      "\">\n",
      "<meta property=\"og:site_name\" content=\"Ptt 批踢踢實業坊\">\n",
      "<meta property=\"og:title\" content=\"[新聞] 「007生死交戰」英國首映 凱特王妃現身吸\">\n",
      "<meta property=\"og:description\" content=\"「007生死交戰」英國首映 凱特王妃現身吸引龐德目光\n",
      "2021-09-29 12:27聯合報\n",
      "記者黃保慧／即時報導\n",
      "丹尼爾克雷格主演的最後一部龐德片「007生死交戰」將在本周上映，該片在台灣時間29\n",
      "日凌晨0:30於英國倫敦皇家亞伯特音樂廳舉辦全球首映會，現場星光熠熠，除了主演丹尼\n",
      "\">\n",
      "<link rel=\"canonical\" href=\"https://www.ptt.cc/bbs/movie/M.1632928031.A.49B.html\">\n",
      "\n",
      "<link rel=\"stylesheet\" type=\"text/css\" href=\"//images.ptt.cc/bbs/v2.27/bbs-common.css\">\n",
      "<link rel=\"stylesheet\" type=\"text/css\" href=\"//images.ptt.cc/bbs/v2.27/bbs-base.css\" media=\"screen\">\n",
      "<link rel=\"stylesheet\" type=\"text/css\" href=\"//images.ptt.cc/bbs/v2.27/bbs-custom.css\">\n",
      "<link rel=\"stylesheet\" type=\"text/css\" href=\"//images.ptt.cc/bbs/v2.27/pushstream.css\" media=\"screen\">\n",
      "<link rel=\"stylesheet\" type=\"text/css\" href=\"//images.ptt.cc/bbs/v2.27/bbs-print.css\" media=\"print\">\n",
      "\n",
      "\n",
      "\n",
      "\n",
      "\t</head>\n",
      "    <body>\n",
      "\t\t\n",
      "<div id=\"topbar-container\">\n",
      "\t<div id=\"topbar\" class=\"bbs-content\">\n",
      "\t\t<a id=\"logo\" href=\"/bbs/\">批踢踢實業坊</a>\n",
      "\t\t<span>&rsaquo;</span>\n",
      "\t\t<a class=\"board\" href=\"/bbs/movie/index.html\"><span class=\"board-label\">看板 </span>movie</a>\n",
      "\t\t<a class=\"right small\" href=\"/about.html\">關於我們</a>\n",
      "\t\t<a class=\"right small\" href=\"/contact.html\">聯絡資訊</a>\n",
      "\t</div>\n",
      "</div>\n",
      "<div id=\"navigation-container\">\n",
      "\t<div id=\"navigation\" class=\"bbs-content\">\n",
      "\t\t<a class=\"board\" href=\"/bbs/movie/index.html\">返回看板</a>\n",
      "\t\t<div class=\"bar\"></div>\n",
      "\t</div>\n",
      "</div>\n",
      "<div id=\"main-container\">\n",
      "    <div id=\"main-content\" class=\"bbs-screen bbs-content\"><div class=\"article-metaline\"><span class=\"article-meta-tag\">作者</span><span class=\"article-meta-value\">Gotham (萬惡之城)</span></div><div class=\"article-metaline-right\"><span class=\"article-meta-tag\">看板</span><span class=\"article-meta-value\">movie</span></div><div class=\"article-metaline\"><span class=\"article-meta-tag\">標題</span><span class=\"article-meta-value\">[新聞] 「007生死交戰」英國首映 凱特王妃現身吸</span></div><div class=\"article-metaline\"><span class=\"article-meta-tag\">時間</span><span class=\"article-meta-value\">Wed Sep 29 23:07:09 2021</span></div>\n",
      "「007生死交戰」英國首映 凱特王妃現身吸引龐德目光\n",
      "\n",
      "\n",
      "2021-09-29 12:27聯合報\n",
      "記者黃保慧／即時報導\n",
      "\n",
      "丹尼爾克雷格主演的最後一部龐德片「007生死交戰」將在本周上映，該片在台灣時間29\n",
      "日凌晨0:30於英國倫敦皇家亞伯特音樂廳舉辦全球首映會，現場星光熠熠，除了主演丹尼\n",
      "爾克雷格，雷米馬利克、蕾雅瑟杜、拉莎娜林區等人出席外，連英國查爾斯王儲夫婦與威\n",
      "廉王子夫婦，也在最後一刻壓軸出場，場面盛大。\n",
      "\n",
      "據外媒報導，克雷格在現場受訪時，透露這幾年因為疫情苦樂參半，所以人們必須更正面\n",
      "看待事情，面對自己的最後一部007，也回想當了15年龐德的心情，他離開的決定仍然存\n",
      "在，也說：「我很高興我們今晚有機會慶祝並進行首映。 有一段時間，這似乎是一件很\n",
      "遙遠的事情。」他也聊起殺青當天的狀況，「那天也下著雨，我本來以為我不會感到激動\n",
      "，但我很激動。」對於能參與007系列電影，他感性說：「與業界最棒的菁英合作。」\n",
      "\n",
      "該場首映凱特王妃穿著華麗感十足的金色禮服，讓她在一眾女星之中仍耀眼，根據「時人\n",
      "」雜誌的報導，克雷格還向凱特王妃表示：「你看起來很美！」此外，驚喜嘉賓還包括「\n",
      "M夫人」茱蒂丹契、「水行俠」傑森摩莫亞。「007生死交戰」將於明天30日在台上映。\n",
      "\n",
      "\n",
      "\n",
      "\n",
      "\n",
      "新聞網址：\n",
      "<a href=\"https://stars.udn.com/star/story/10090/5779764\" target=\"_blank\" rel=\"noreferrer noopener nofollow\">https://stars.udn.com/star/story/10090/5779764</a>\n",
      "\n",
      "\n",
      "\n",
      "--\n",
      "<span class=\"f2\">※ 發信站: 批踢踢實業坊(ptt.cc), 來自: 223.136.32.84 (臺灣)\n",
      "</span><span class=\"f2\">※ 文章網址: <a href=\"https://www.ptt.cc/bbs/movie/M.1632928031.A.49B.html\" target=\"_blank\" rel=\"noreferrer noopener nofollow\">https://www.ptt.cc/bbs/movie/M.1632928031.A.49B.html</a>\n",
      "</span><div class=\"push\"><span class=\"hl push-tag\">推 </span><span class=\"f3 hl push-userid\">BF109Pilot  </span><span class=\"f3 push-content\">: 我認為克雷格可能跟刺激1995的阿瑞一樣，被體制化了</span><span class=\"push-ipdatetime\"> 09/29 23:17\n",
      "</span></div><div class=\"push\"><span class=\"f1 hl push-tag\">→ </span><span class=\"f3 hl push-userid\">BF109Pilot  </span><span class=\"f3 push-content\">: 雖然一開始一直說不再接007了，但後來發現好像不演</span><span class=\"push-ipdatetime\"> 09/29 23:18\n",
      "</span></div><div class=\"push\"><span class=\"f1 hl push-tag\">→ </span><span class=\"f3 hl push-userid\">BF109Pilot  </span><span class=\"f3 push-content\">: 007會渾身不對勁，尿尿也尿不出來 (X)</span><span class=\"push-ipdatetime\"> 09/29 23:18\n",
      "</span></div><div class=\"push\"><span class=\"hl push-tag\">推 </span><span class=\"f3 hl push-userid\">yanggh      </span><span class=\"f3 push-content\">: 真的，惡魔四伏前就講過         希望跟那次一樣QQ</span><span class=\"push-ipdatetime\"> 09/29 23:21\n",
      "</span></div><div class=\"push\"><span class=\"hl push-tag\">推 </span><span class=\"f3 hl push-userid\">littenVenus </span><span class=\"f3 push-content\">: 真的老了QQ</span><span class=\"push-ipdatetime\"> 09/30 12:36\n",
      "</span></div><div class=\"push\"><span class=\"hl push-tag\">推 </span><span class=\"f3 hl push-userid\">Herblay     </span><span class=\"f3 push-content\">: 凱特這套禮服已經有王后的架勢了</span><span class=\"push-ipdatetime\"> 09/30 12:44\n",
      "</span></div><div class=\"push\"><span class=\"hl push-tag\">推 </span><span class=\"f3 hl push-userid\">hank13241   </span><span class=\"f3 push-content\">: 這集是真的最後了QQ</span><span class=\"push-ipdatetime\"> 09/30 13:35\n",
      "</span></div><div class=\"push\"><span class=\"f1 hl push-tag\">→ </span><span class=\"f3 hl push-userid\">rada118     </span><span class=\"f3 push-content\">: 特寫感覺跟鷹眼撞臉</span><span class=\"push-ipdatetime\"> 09/30 17:55\n",
      "</span></div></div>\n",
      "    \n",
      "    <div id=\"article-polling\" data-pollurl=\"/poll/movie/M.1632928031.A.49B.html?cacheKey=2148-445149213&amp;offset=2135&amp;offset-sig=16a676dc64c4712db0b3fa4b60c870a265ecfe5b\" data-longpollurl=\"/v1/longpoll?id=a9c94584c4c8379e6a9f57a2f501944c70e264fb\" data-offset=\"2135\"></div>\n",
      "    \n",
      "\n",
      "    \n",
      "</div>\n",
      "\n",
      "\t\t\n",
      "\n",
      "<script>\n",
      "  (function(i,s,o,g,r,a,m){i['GoogleAnalyticsObject']=r;i[r]=i[r]||function(){\n",
      "  (i[r].q=i[r].q||[]).push(arguments)},i[r].l=1*new Date();a=s.createElement(o),\n",
      "  m=s.getElementsByTagName(o)[0];a.async=1;a.src=g;m.parentNode.insertBefore(a,m)\n",
      "  })(window,document,'script','https://www.google-analytics.com/analytics.js','ga');\n",
      "\n",
      "  ga('create', 'UA-32365737-1', {\n",
      "    cookieDomain: 'ptt.cc',\n",
      "    legacyCookieDomain: 'ptt.cc'\n",
      "  });\n",
      "  ga('send', 'pageview');\n",
      "</script>\n",
      "\n",
      "\n",
      "\t\t\n",
      "<script src=\"//ajax.googleapis.com/ajax/libs/jquery/2.1.1/jquery.min.js\"></script>\n",
      "<script src=\"//images.ptt.cc/bbs/v2.27/bbs.js\"></script>\n",
      "\n",
      "    </body>\n",
      "</html>\n",
      "\n"
     ]
    }
   ],
>>>>>>> 3969768275ee89015a4c3795ebd0d8d060f79ce5
   "source": [
    "#測試爬蟲\n",
    "import requests\n",
    "from bs4 import BeautifulSoup as bs\n",
    "\n",
    "#PPT網址\n",
<<<<<<< HEAD
    "url=\"https://www.ptt.cc/bbs/movie/M.1632998916.A.3BB.html\"\n",
    "res=requests.get(url)\n",
    "#print(res.text)\n",
=======
    "url=\"https://www.ptt.cc/bbs/movie/M.1632928031.A.49B.html\"\n",
    "res=requests.get(url)\n",
    "print(res.text)\n",
>>>>>>> 3969768275ee89015a4c3795ebd0d8d060f79ce5
    "\n",
    "    "
   ]
  },
  {
   "cell_type": "code",
<<<<<<< HEAD
   "execution_count": null,
   "id": "6ccd8cc6",
   "metadata": {},
   "outputs": [],
   "source": []
  },
  {
   "cell_type": "code",
   "execution_count": 39,
=======
   "execution_count": 22,
>>>>>>> 3969768275ee89015a4c3795ebd0d8d060f79ce5
   "id": "b600af11",
   "metadata": {},
   "outputs": [
    {
<<<<<<< HEAD
     "data": {
      "text/plain": [
       "{'author': 'booowhat (丐幫幫主登登)',\n",
       " 'title': '[普雷] 007：生死交戰 No Time to Die',\n",
       " 'category': 'movie'}"
      ]
     },
     "execution_count": 39,
     "metadata": {},
     "output_type": "execute_result"
=======
     "name": "stdout",
     "output_type": "stream",
     "text": [
      "[新聞] 「007生死交戰」英國首映 凱特王妃現身吸\n"
     ]
>>>>>>> 3969768275ee89015a4c3795ebd0d8d060f79ce5
    }
   ],
   "source": [
    "#解析網頁\n",
    "soup=bs(res.text,\"lxml\")\n",
    "\n",
    "#定位article-meta-value\n",
    "raw_data=soup.select(\"span.article-meta-value\")\n",
    "\n",
    "#清理資料\n",
    "title=raw_data[2].text\n",
<<<<<<< HEAD
    "#print(title)\n",
    "\n",
    "author=raw_data[0].text\n",
    "#print(author)\n",
    "\n",
    "category=raw_data[1].text\n",
    "#print(category)\n",
    "\n",
    "\n",
    "data={\n",
    "    \"author\":author,\n",
    "    \"title\":title,\n",
    "    \"category\":category\n",
    "    \n",
    "}\n",
    "\n",
    "data"
   ]
  },
  {
   "cell_type": "code",
   "execution_count": 40,
   "id": "2f8feffd",
   "metadata": {},
   "outputs": [
    {
     "name": "stdout",
     "output_type": "stream",
     "text": [
      "39\n",
      "-15\n",
      "-417\n"
     ]
    }
   ],
   "source": [
    "# 變數\n",
    "# 值\n",
    "a = 12 \n",
    "b = 27 \n",
    "c = 456\n",
    "\n",
    "print(a+b)\n",
    "print(a-b)\n",
    "print(a+b-c)"
   ]
  },
  {
   "cell_type": "code",
   "execution_count": 41,
   "id": "f9e72663",
   "metadata": {},
   "outputs": [
    {
     "name": "stdout",
     "output_type": "stream",
     "text": [
      "Jeff\n",
      "999\n",
      "True\n",
      "[1, 2, 3]\n"
     ]
    }
   ],
   "source": [
    "d = \"Jeff\"   # 字串\n",
    "e = 999      # 數值\n",
    "f = True     # 布林\n",
    "g = [1,2,3]  # 串列\n",
    "\n",
    "print(d)\n",
    "print(e)\n",
    "print(f)\n",
    "print(g)"
   ]
  },
  {
   "cell_type": "code",
   "execution_count": 1,
   "id": "2a23a9ad",
   "metadata": {},
   "outputs": [
    {
     "name": "stdout",
     "output_type": "stream",
     "text": [
      "Please input your name:aaa\n",
      "your name is :  aaa\n"
     ]
    }
   ],
   "source": [
    "name=input(\"Please input your name:\")\n",
    "print(\"your name is : \",name)\n",
    "      "
=======
    "print(title)\n",
    "\n",
    "author=raw_data[0].text\n",
    "print(author)\n",
    "\n",
    "category=raw_data[1].text\n",
    "print(catgeory)\n"
>>>>>>> 3969768275ee89015a4c3795ebd0d8d060f79ce5
   ]
  },
  {
   "cell_type": "code",
   "execution_count": null,
<<<<<<< HEAD
   "id": "63d83df1",
=======
   "id": "2f8feffd",
>>>>>>> 3969768275ee89015a4c3795ebd0d8d060f79ce5
   "metadata": {},
   "outputs": [],
   "source": []
  }
 ],
 "metadata": {
  "kernelspec": {
   "display_name": "Python 3",
   "language": "python",
   "name": "python3"
  },
  "language_info": {
   "codemirror_mode": {
    "name": "ipython",
    "version": 3
   },
   "file_extension": ".py",
   "mimetype": "text/x-python",
   "name": "python",
   "nbconvert_exporter": "python",
   "pygments_lexer": "ipython3",
   "version": "3.8.8"
  }
 },
 "nbformat": 4,
 "nbformat_minor": 5
}
