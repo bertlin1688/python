{
 "cells": [
  {
   "cell_type": "code",
   "execution_count": 38,
   "id": "ab863da9",
   "metadata": {},
   "outputs": [],
   "source": [
    "#測試爬蟲\n",
    "import requests\n",
    "from bs4 import BeautifulSoup as bs\n",
    "\n",
    "#PPT網址\n",
    "url=\"https://www.ptt.cc/bbs/movie/M.1632998916.A.3BB.html\"\n",
    "res=requests.get(url)\n",
    "#print(res.text)\n",
    "\n",
    "    "
   ]
  },
  {
   "cell_type": "code",
   "execution_count": null,
   "id": "6ccd8cc6",
   "metadata": {},
   "outputs": [],
   "source": []
  },
  {
   "cell_type": "code",
   "execution_count": 39,
   "id": "b600af11",
   "metadata": {},
   "outputs": [
    {
     "data": {
      "text/plain": [
       "{'author': 'booowhat (丐幫幫主登登)',\n",
       " 'title': '[普雷] 007：生死交戰 No Time to Die',\n",
       " 'category': 'movie'}"
      ]
     },
     "execution_count": 39,
     "metadata": {},
     "output_type": "execute_result"
    }
   ],
   "source": [
    "#解析網頁\n",
    "soup=bs(res.text,\"lxml\")\n",
    "\n",
    "#定位article-meta-value\n",
    "raw_data=soup.select(\"span.article-meta-value\")\n",
    "\n",
    "#清理資料\n",
    "title=raw_data[2].text\n",
    "#print(title)\n",
    "\n",
    "author=raw_data[0].text\n",
    "#print(author)\n",
    "\n",
    "category=raw_data[1].text\n",
    "#print(category)\n",
    "\n",
    "\n",
    "data={\n",
    "    \"author\":author,\n",
    "    \"title\":title,\n",
    "    \"category\":category\n",
    "    \n",
    "}\n",
    "\n",
    "data"
   ]
  },
  {
   "cell_type": "code",
   "execution_count": 40,
   "id": "2f8feffd",
   "metadata": {},
   "outputs": [
    {
     "name": "stdout",
     "output_type": "stream",
     "text": [
      "39\n",
      "-15\n",
      "-417\n"
     ]
    }
   ],
   "source": [
    "# 變數\n",
    "# 值\n",
    "a = 12 \n",
    "b = 27 \n",
    "c = 456\n",
    "\n",
    "print(a+b)\n",
    "print(a-b)\n",
    "print(a+b-c)"
   ]
  },
  {
   "cell_type": "code",
   "execution_count": 41,
   "id": "f9e72663",
   "metadata": {},
   "outputs": [
    {
     "name": "stdout",
     "output_type": "stream",
     "text": [
      "Jeff\n",
      "999\n",
      "True\n",
      "[1, 2, 3]\n"
     ]
    }
   ],
   "source": [
    "d = \"Jeff\"   # 字串\n",
    "e = 999      # 數值\n",
    "f = True     # 布林\n",
    "g = [1,2,3]  # 串列\n",
    "\n",
    "print(d)\n",
    "print(e)\n",
    "print(f)\n",
    "print(g)"
   ]
  },
  {
   "cell_type": "code",
   "execution_count": 1,
   "id": "2a23a9ad",
   "metadata": {},
   "outputs": [
    {
     "name": "stdout",
     "output_type": "stream",
     "text": [
      "Please input your name:aaa\n",
      "your name is :  aaa\n"
     ]
    }
   ],
   "source": [
    "name=input(\"Please input your name:\")\n",
    "print(\"your name is : \",name)\n",
    "      "
   ]
  },
  {
   "cell_type": "code",
   "execution_count": null,
   "id": "63d83df1",
   "metadata": {},
   "outputs": [],
   "source": []
  }
 ],
 "metadata": {
  "kernelspec": {
   "display_name": "Python 3",
   "language": "python",
   "name": "python3"
  },
  "language_info": {
   "codemirror_mode": {
    "name": "ipython",
    "version": 3
   },
   "file_extension": ".py",
   "mimetype": "text/x-python",
   "name": "python",
   "nbconvert_exporter": "python",
   "pygments_lexer": "ipython3",
   "version": "3.8.8"
  }
 },
 "nbformat": 4,
 "nbformat_minor": 5
}
